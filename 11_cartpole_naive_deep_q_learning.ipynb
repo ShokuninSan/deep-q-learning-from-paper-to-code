{
  "nbformat": 4,
  "nbformat_minor": 0,
  "metadata": {
    "colab": {
      "name": "Untitled1.ipynb",
      "provenance": [],
      "include_colab_link": true
    },
    "kernelspec": {
      "display_name": "Python 3",
      "language": "python",
      "name": "python3"
    },
    "language_info": {
      "codemirror_mode": {
        "name": "ipython",
        "version": 3
      },
      "file_extension": ".py",
      "mimetype": "text/x-python",
      "name": "python",
      "nbconvert_exporter": "python",
      "pygments_lexer": "ipython3",
      "version": "3.8.3"
    },
    "toc": {
      "base_numbering": 1,
      "nav_menu": {},
      "number_sections": true,
      "sideBar": true,
      "skip_h1_title": false,
      "title_cell": "Table of Contents",
      "title_sidebar": "Contents",
      "toc_cell": false,
      "toc_position": {},
      "toc_section_display": true,
      "toc_window_display": false
    },
    "accelerator": "GPU"
  },
  "cells": [
    {
      "cell_type": "markdown",
      "metadata": {
        "id": "view-in-github",
        "colab_type": "text"
      },
      "source": [
        "<a href=\"https://colab.research.google.com/github/ShokuninSan/deep-q-learning-from-paper-to-code/blob/master/11_cartpole_naive_deep_q_learning.ipynb\" target=\"_parent\"><img src=\"https://colab.research.google.com/assets/colab-badge.svg\" alt=\"Open In Colab\"/></a>"
      ]
    },
    {
      "cell_type": "code",
      "metadata": {
        "colab_type": "code",
        "id": "E5y7JOnU99m0",
        "colab": {}
      },
      "source": [
        "import gym\n",
        "import numpy as np\n",
        "import matplotlib.pyplot as plt\n",
        "import torch.nn as nn\n",
        "from torch import optim\n",
        "import torch.nn.functional as F\n",
        "import torch as T"
      ],
      "execution_count": 0,
      "outputs": []
    },
    {
      "cell_type": "code",
      "metadata": {
        "colab_type": "code",
        "id": "_tBnXXoJJPkv",
        "colab": {}
      },
      "source": [
        "%matplotlib inline"
      ],
      "execution_count": 0,
      "outputs": []
    },
    {
      "cell_type": "markdown",
      "metadata": {
        "colab_type": "text",
        "id": "kb30cF8vJYNB"
      },
      "source": [
        "# Solving `CartPole` environment using a naive Deep Q-learning approach"
      ]
    },
    {
      "cell_type": "markdown",
      "metadata": {
        "id": "oW3_BPCnvXlq",
        "colab_type": "text"
      },
      "source": [
        "## The `DQN`"
      ]
    },
    {
      "cell_type": "code",
      "metadata": {
        "pixiedust": {
          "displayParams": {}
        },
        "id": "19PeHSY3vXlr",
        "colab_type": "code",
        "colab": {}
      },
      "source": [
        "class DQN(nn.Module):\n",
        "    \n",
        "    def __init__(self, n_input, n_hidden, n_classes,\n",
        "                 loss=nn.MSELoss(),\n",
        "                 optimizer=optim.Adam,\n",
        "                 activation=lambda x: x,\n",
        "                 lr=0.001):\n",
        "        super(DQN, self).__init__()\n",
        "        \n",
        "        self.fc1 = nn.Linear(n_input, n_hidden)\n",
        "        self.fc2 = nn.Linear(n_hidden, n_classes)\n",
        "        \n",
        "        self.activation = activation\n",
        "        self.loss = loss\n",
        "        self.optimizer = optimizer(self.parameters(), lr=lr)       \n",
        "        self.device = T.device('cuda' if T.cuda.is_available() else 'cpu')\n",
        "        self.to(self.device)\n",
        "        \n",
        "    def forward(self, state):\n",
        "        fc1 = F.relu(self.fc1(state))\n",
        "        fc2 = self.fc2(fc1)\n",
        "        return fc2"
      ],
      "execution_count": 0,
      "outputs": []
    },
    {
      "cell_type": "markdown",
      "metadata": {
        "id": "6RSYIjOAvXlt",
        "colab_type": "text"
      },
      "source": [
        "### Test the DQN and approximate a binary AND operator"
      ]
    },
    {
      "cell_type": "code",
      "metadata": {
        "id": "sZmz4XYkvXlt",
        "colab_type": "code",
        "colab": {}
      },
      "source": [
        "net = DQN(2, 4, 1, loss=nn.BCELoss(), optimizer=optim.Adam, lr=0.1, activation=T.sigmoid)"
      ],
      "execution_count": 0,
      "outputs": []
    },
    {
      "cell_type": "code",
      "metadata": {
        "id": "zTkfxlBsvXlv",
        "colab_type": "code",
        "colab": {}
      },
      "source": [
        "X = np.array([\n",
        "    [1, 1],\n",
        "    [0, 1],\n",
        "    [0, 0],\n",
        "    [1, 0]\n",
        "]*100)\n",
        "\n",
        "Y = [[1], [0], [0], [0]]*100"
      ],
      "execution_count": 0,
      "outputs": []
    },
    {
      "cell_type": "code",
      "metadata": {
        "id": "4IrQy9Q6vXlx",
        "colab_type": "code",
        "colab": {}
      },
      "source": [
        "for x, y in zip(X, Y):\n",
        "    net.optimizer.zero_grad()\n",
        "\n",
        "    x_ = T.tensor(x, dtype=T.float).to(net.device)\n",
        "    y_ = T.tensor(y, dtype=T.float).to(net.device)\n",
        "\n",
        "    y_pred = net.activation(net.forward(x_))\n",
        "\n",
        "    loss = net.loss(y_pred, y_)\n",
        "    loss.backward()\n",
        "\n",
        "    net.optimizer.step()"
      ],
      "execution_count": 0,
      "outputs": []
    },
    {
      "cell_type": "code",
      "metadata": {
        "id": "vzzka3ikvXly",
        "colab_type": "code",
        "colab": {
          "base_uri": "https://localhost:8080/",
          "height": 36
        },
        "outputId": "2b762a7e-2387-4520-e02e-896c33b119a1"
      },
      "source": [
        "T.sigmoid(net.forward(T.tensor([1,1], dtype=T.float).to(net.device))).item()"
      ],
      "execution_count": 9,
      "outputs": [
        {
          "output_type": "execute_result",
          "data": {
            "text/plain": [
              "0.9987175464630127"
            ]
          },
          "metadata": {
            "tags": []
          },
          "execution_count": 9
        }
      ]
    },
    {
      "cell_type": "code",
      "metadata": {
        "id": "kXGOPN_IvXlz",
        "colab_type": "code",
        "colab": {
          "base_uri": "https://localhost:8080/",
          "height": 36
        },
        "outputId": "038e675b-de4a-4139-8348-b943b51449d9"
      },
      "source": [
        "T.sigmoid(net.forward(T.tensor([0,0], dtype=T.float).to(net.device))).item()"
      ],
      "execution_count": 10,
      "outputs": [
        {
          "output_type": "execute_result",
          "data": {
            "text/plain": [
              "3.8559175408181545e-08"
            ]
          },
          "metadata": {
            "tags": []
          },
          "execution_count": 10
        }
      ]
    },
    {
      "cell_type": "code",
      "metadata": {
        "id": "_RUElLHMvXl0",
        "colab_type": "code",
        "colab": {
          "base_uri": "https://localhost:8080/",
          "height": 36
        },
        "outputId": "37649c89-63bd-4385-9de5-50c9c660f26b"
      },
      "source": [
        "T.sigmoid(net.forward(T.tensor([0,1], dtype=T.float).to(net.device))).item()"
      ],
      "execution_count": 11,
      "outputs": [
        {
          "output_type": "execute_result",
          "data": {
            "text/plain": [
              "0.0009319333476014435"
            ]
          },
          "metadata": {
            "tags": []
          },
          "execution_count": 11
        }
      ]
    },
    {
      "cell_type": "code",
      "metadata": {
        "id": "DiE46TRLvXl1",
        "colab_type": "code",
        "colab": {
          "base_uri": "https://localhost:8080/",
          "height": 36
        },
        "outputId": "5c611933-5d0c-4389-ff61-54d5f481895d"
      },
      "source": [
        "T.sigmoid(net.forward(T.tensor([1,0], dtype=T.float).to(net.device))).item()"
      ],
      "execution_count": 12,
      "outputs": [
        {
          "output_type": "execute_result",
          "data": {
            "text/plain": [
              "0.0005140479188412428"
            ]
          },
          "metadata": {
            "tags": []
          },
          "execution_count": 12
        }
      ]
    },
    {
      "cell_type": "markdown",
      "metadata": {
        "id": "rTFk7NorvXl2",
        "colab_type": "text"
      },
      "source": [
        "## The `Agent`"
      ]
    },
    {
      "cell_type": "markdown",
      "metadata": {
        "id": "u0wdsFRCvXl2",
        "colab_type": "text"
      },
      "source": [
        "Reuse the `Agent` implementation of the Q-learning example and substitute the dict by a `DQN`."
      ]
    },
    {
      "cell_type": "code",
      "metadata": {
        "colab_type": "code",
        "id": "uBiA30LnJPlA",
        "colab": {}
      },
      "source": [
        "class Agent:\n",
        "\n",
        "    def __init__(self, n_observations, n_actions, gamma=0.99, lr=0.001, epsilon=1.0, epsilon_dec=1e-5, epsilon_min=0.01):\n",
        "        self.n_actions = n_actions\n",
        "        self.n_observations = n_observations\n",
        "        self.gamma = gamma\n",
        "        self.lr = lr\n",
        "        self.epsilon = epsilon\n",
        "        self.epsilon_dec = epsilon_dec\n",
        "        self.epsilon_min = epsilon_min\n",
        "        self.Q = DQN(self.n_observations, 128, self.n_actions, lr=self.lr)\n",
        "\n",
        "    def select_action(self, state):\n",
        "        \"\"\"\n",
        "        Selects next action based on epsilon-greedy action selection.\n",
        "        \"\"\"\n",
        "        action = None\n",
        "        if np.random.rand() < self.epsilon:\n",
        "            # do random action selection\n",
        "            action = np.random.randint(self.n_actions)\n",
        "        else:\n",
        "            # do greedy action selection\n",
        "            state = T.tensor(state, dtype=T.float).to(self.Q.device)\n",
        "            action_values = self.Q.forward(state)\n",
        "            action = T.argmax(action_values).item()\n",
        "\n",
        "        return action\n",
        "    \n",
        "    def learn(self, state, action, reward, new_state):\n",
        "        \"\"\"\n",
        "        Fits the DQN using the Bellman update equation and SGD.\n",
        "        \"\"\"\n",
        "        self.Q.optimizer.zero_grad()        \n",
        "\n",
        "        state = T.tensor(state, dtype=T.float).to(self.Q.device)\n",
        "        action = T.tensor(action).to(self.Q.device)\n",
        "        reward = T.tensor(reward).to(self.Q.device)\n",
        "        new_state = T.tensor(new_state, dtype=T.float).to(self.Q.device)\n",
        "        \n",
        "        action_value = self.Q.forward(state)[action]\n",
        "        next_action_value = self.Q.forward(new_state).max()\n",
        "        expected_value = reward + self.gamma * next_action_value\n",
        "        \n",
        "        loss = self.Q.loss(expected_value, action_value).to(self.Q.device)\n",
        "        loss.backward()\n",
        "        self.Q.optimizer.step()\n",
        "        self._decrement_epsilon()\n",
        "        \n",
        "    def _decrement_epsilon(self):\n",
        "        \"\"\"\n",
        "        Decrements the epsilon for action selection.\n",
        "        \"\"\"\n",
        "        self.epsilon = np.max([self.epsilon - self.epsilon_dec, self.epsilon_min])"
      ],
      "execution_count": 0,
      "outputs": []
    },
    {
      "cell_type": "code",
      "metadata": {
        "colab_type": "code",
        "id": "fXvxZLYEJPk5",
        "colab": {}
      },
      "source": [
        "N_EPISODES = 10_000"
      ],
      "execution_count": 0,
      "outputs": []
    },
    {
      "cell_type": "code",
      "metadata": {
        "colab_type": "code",
        "id": "EdMe2WpdJPlF",
        "colab": {}
      },
      "source": [
        "rewards = []\n",
        "epsilons = []\n",
        "avg_100_rewards = []\n",
        "env = gym.make('CartPole-v1') #gym.make('FrozenLake-v0')"
      ],
      "execution_count": 0,
      "outputs": []
    },
    {
      "cell_type": "code",
      "metadata": {
        "colab_type": "code",
        "id": "nLjt35J3vXmH",
        "colab": {}
      },
      "source": [
        "agent = Agent(n_observations=env.observation_space.shape[0], n_actions=env.action_space.n)"
      ],
      "execution_count": 0,
      "outputs": []
    },
    {
      "cell_type": "code",
      "metadata": {
        "colab_type": "code",
        "id": "YRl79fWJJPlH",
        "outputId": "326cbba3-66b7-4d12-89df-7ac28b1b5716",
        "pixiedust": {
          "displayParams": {}
        },
        "scrolled": true,
        "colab": {
          "base_uri": "https://localhost:8080/",
          "height": 1000
        }
      },
      "source": [
        "for episode in range(N_EPISODES):\n",
        "    state = env.reset()\n",
        "    is_done = False\n",
        "    episode_reward = 0\n",
        "\n",
        "    while not is_done:\n",
        "        action = agent.select_action(state)\n",
        "        new_state, reward, is_done, _ = env.step(action)\n",
        "        agent.learn(state, action, reward, new_state)\n",
        "        episode_reward += reward\n",
        "        state = new_state\n",
        "        \n",
        "    rewards.append(episode_reward) \n",
        "    epsilons.append(agent.epsilon)\n",
        "\n",
        "    if episode % 100 == 0:\n",
        "        avg_reward = np.mean(rewards[-100:])\n",
        "        avg_100_rewards.append(avg_reward)\n",
        "        print(f'Average reward over last episodes was {avg_100_rewards[-1]}, epsilon: {agent.epsilon}')"
      ],
      "execution_count": 17,
      "outputs": [
        {
          "output_type": "stream",
          "text": [
            "Average reward over last episodes was 10.0, epsilon: 0.9999000000000005\n",
            "Average reward over last episodes was 23.39, epsilon: 0.9765100000001069\n",
            "Average reward over last episodes was 20.62, epsilon: 0.9558900000002007\n",
            "Average reward over last episodes was 23.4, epsilon: 0.9324900000003072\n",
            "Average reward over last episodes was 21.82, epsilon: 0.9106700000004065\n",
            "Average reward over last episodes was 23.48, epsilon: 0.8871900000005134\n",
            "Average reward over last episodes was 21.83, epsilon: 0.8653600000006128\n",
            "Average reward over last episodes was 23.94, epsilon: 0.8414200000007217\n",
            "Average reward over last episodes was 26.41, epsilon: 0.8150100000008419\n",
            "Average reward over last episodes was 26.45, epsilon: 0.7885600000009623\n",
            "Average reward over last episodes was 30.95, epsilon: 0.7576100000011031\n",
            "Average reward over last episodes was 29.09, epsilon: 0.7285200000012355\n",
            "Average reward over last episodes was 35.32, epsilon: 0.6932000000013963\n",
            "Average reward over last episodes was 29.5, epsilon: 0.6637000000015305\n",
            "Average reward over last episodes was 31.8, epsilon: 0.6319000000016752\n",
            "Average reward over last episodes was 31.6, epsilon: 0.600300000001819\n",
            "Average reward over last episodes was 32.54, epsilon: 0.5677600000019671\n",
            "Average reward over last episodes was 36.01, epsilon: 0.531750000002131\n",
            "Average reward over last episodes was 33.29, epsilon: 0.498460000002274\n",
            "Average reward over last episodes was 36.55, epsilon: 0.4619100000022374\n",
            "Average reward over last episodes was 37.82, epsilon: 0.4240900000021996\n",
            "Average reward over last episodes was 38.09, epsilon: 0.3860000000021615\n",
            "Average reward over last episodes was 40.52, epsilon: 0.345480000002121\n",
            "Average reward over last episodes was 41.22, epsilon: 0.30426000000207976\n",
            "Average reward over last episodes was 44.6, epsilon: 0.25966000000203515\n",
            "Average reward over last episodes was 39.16, epsilon: 0.220500000001996\n",
            "Average reward over last episodes was 33.49, epsilon: 0.1870100000019625\n",
            "Average reward over last episodes was 40.94, epsilon: 0.14607000000192155\n",
            "Average reward over last episodes was 38.37, epsilon: 0.10770000000190719\n",
            "Average reward over last episodes was 34.36, epsilon: 0.07334000000192051\n",
            "Average reward over last episodes was 25.44, epsilon: 0.04790000000192024\n",
            "Average reward over last episodes was 24.97, epsilon: 0.02293000000191548\n",
            "Average reward over last episodes was 16.16, epsilon: 0.01\n",
            "Average reward over last episodes was 10.89, epsilon: 0.01\n",
            "Average reward over last episodes was 18.76, epsilon: 0.01\n",
            "Average reward over last episodes was 10.07, epsilon: 0.01\n",
            "Average reward over last episodes was 13.22, epsilon: 0.01\n",
            "Average reward over last episodes was 11.96, epsilon: 0.01\n",
            "Average reward over last episodes was 21.58, epsilon: 0.01\n",
            "Average reward over last episodes was 10.2, epsilon: 0.01\n",
            "Average reward over last episodes was 13.66, epsilon: 0.01\n",
            "Average reward over last episodes was 13.23, epsilon: 0.01\n",
            "Average reward over last episodes was 15.23, epsilon: 0.01\n",
            "Average reward over last episodes was 15.56, epsilon: 0.01\n",
            "Average reward over last episodes was 14.99, epsilon: 0.01\n",
            "Average reward over last episodes was 14.06, epsilon: 0.01\n",
            "Average reward over last episodes was 11.46, epsilon: 0.01\n",
            "Average reward over last episodes was 12.19, epsilon: 0.01\n",
            "Average reward over last episodes was 13.16, epsilon: 0.01\n",
            "Average reward over last episodes was 9.71, epsilon: 0.01\n",
            "Average reward over last episodes was 11.55, epsilon: 0.01\n",
            "Average reward over last episodes was 9.38, epsilon: 0.01\n",
            "Average reward over last episodes was 9.88, epsilon: 0.01\n",
            "Average reward over last episodes was 10.54, epsilon: 0.01\n",
            "Average reward over last episodes was 10.4, epsilon: 0.01\n",
            "Average reward over last episodes was 11.38, epsilon: 0.01\n",
            "Average reward over last episodes was 9.86, epsilon: 0.01\n",
            "Average reward over last episodes was 10.66, epsilon: 0.01\n",
            "Average reward over last episodes was 12.32, epsilon: 0.01\n",
            "Average reward over last episodes was 14.59, epsilon: 0.01\n",
            "Average reward over last episodes was 10.46, epsilon: 0.01\n",
            "Average reward over last episodes was 10.91, epsilon: 0.01\n",
            "Average reward over last episodes was 11.8, epsilon: 0.01\n",
            "Average reward over last episodes was 10.12, epsilon: 0.01\n",
            "Average reward over last episodes was 10.57, epsilon: 0.01\n",
            "Average reward over last episodes was 10.57, epsilon: 0.01\n",
            "Average reward over last episodes was 11.54, epsilon: 0.01\n",
            "Average reward over last episodes was 15.6, epsilon: 0.01\n",
            "Average reward over last episodes was 10.16, epsilon: 0.01\n",
            "Average reward over last episodes was 14.32, epsilon: 0.01\n",
            "Average reward over last episodes was 13.69, epsilon: 0.01\n",
            "Average reward over last episodes was 16.57, epsilon: 0.01\n",
            "Average reward over last episodes was 12.77, epsilon: 0.01\n",
            "Average reward over last episodes was 11.95, epsilon: 0.01\n",
            "Average reward over last episodes was 12.17, epsilon: 0.01\n",
            "Average reward over last episodes was 13.27, epsilon: 0.01\n",
            "Average reward over last episodes was 11.3, epsilon: 0.01\n",
            "Average reward over last episodes was 11.73, epsilon: 0.01\n",
            "Average reward over last episodes was 12.47, epsilon: 0.01\n",
            "Average reward over last episodes was 12.3, epsilon: 0.01\n",
            "Average reward over last episodes was 10.21, epsilon: 0.01\n",
            "Average reward over last episodes was 11.11, epsilon: 0.01\n",
            "Average reward over last episodes was 9.98, epsilon: 0.01\n",
            "Average reward over last episodes was 11.33, epsilon: 0.01\n",
            "Average reward over last episodes was 10.46, epsilon: 0.01\n",
            "Average reward over last episodes was 11.33, epsilon: 0.01\n",
            "Average reward over last episodes was 11.4, epsilon: 0.01\n",
            "Average reward over last episodes was 9.77, epsilon: 0.01\n",
            "Average reward over last episodes was 11.53, epsilon: 0.01\n",
            "Average reward over last episodes was 9.71, epsilon: 0.01\n",
            "Average reward over last episodes was 11.43, epsilon: 0.01\n",
            "Average reward over last episodes was 12.22, epsilon: 0.01\n",
            "Average reward over last episodes was 13.17, epsilon: 0.01\n",
            "Average reward over last episodes was 11.89, epsilon: 0.01\n",
            "Average reward over last episodes was 10.94, epsilon: 0.01\n",
            "Average reward over last episodes was 11.65, epsilon: 0.01\n",
            "Average reward over last episodes was 10.87, epsilon: 0.01\n",
            "Average reward over last episodes was 15.46, epsilon: 0.01\n",
            "Average reward over last episodes was 13.06, epsilon: 0.01\n",
            "Average reward over last episodes was 11.9, epsilon: 0.01\n"
          ],
          "name": "stdout"
        }
      ]
    },
    {
      "cell_type": "code",
      "metadata": {
        "colab_type": "code",
        "id": "6P0GIi70JPlK",
        "outputId": "7b7098b7-4775-4150-8392-1566310e318c",
        "colab": {
          "base_uri": "https://localhost:8080/",
          "height": 284
        }
      },
      "source": [
        "plt.plot(avg_100_rewards)"
      ],
      "execution_count": 18,
      "outputs": [
        {
          "output_type": "execute_result",
          "data": {
            "text/plain": [
              "[<matplotlib.lines.Line2D at 0x7fcddec991d0>]"
            ]
          },
          "metadata": {
            "tags": []
          },
          "execution_count": 18
        },
        {
          "output_type": "display_data",
          "data": {
            "image/png": "[encoded data removed]",
            "text/plain": [
              "<Figure size 432x288 with 1 Axes>"
            ]
          },
          "metadata": {
            "tags": [],
            "needs_background": "light"
          }
        }
      ]
    },
    {
      "cell_type": "code",
      "metadata": {
        "colab_type": "code",
        "id": "0D-rrsO_JPlL",
        "colab": {}
      },
      "source": [
        "def plot_learning_curve(x, rewards, epsilons):\n",
        "    fig = plt.figure()\n",
        "    ax = fig.add_subplot(111, label='1')\n",
        "    ax2 = fig.add_subplot(111, label='2', frame_on=False)\n",
        "    \n",
        "    ax.plot(x, epsilons, color='C0')\n",
        "    ax.set_xlabel('Training Steps')\n",
        "    ax.set_ylabel('Epsilon', color='C0')\n",
        "    ax.tick_params(axis='y', colors='C0')\n",
        "    \n",
        "    N = len(rewards)\n",
        "    running_avg = np.empty(N)\n",
        "    for t in range(N):\n",
        "        running_avg[t] = np.mean(rewards[max(0, t-100):(t+1)])\n",
        "        \n",
        "    ax2.plot(x, running_avg, color='C1')\n",
        "    ax2.axes.get_xaxis().set_visible(False)\n",
        "    ax2.yaxis.tick_right()\n",
        "    ax2.set_ylabel('Score', color='C1')\n",
        "    ax2.yaxis.set_label_position('right')\n",
        "    ax2.tick_params(axis='y', colors='C1')"
      ],
      "execution_count": 0,
      "outputs": []
    },
    {
      "cell_type": "code",
      "metadata": {
        "colab_type": "code",
        "id": "ZSy7iVGGrzeP",
        "colab": {}
      },
      "source": [
        "x = list(range(1, N_EPISODES + 1))"
      ],
      "execution_count": 0,
      "outputs": []
    },
    {
      "cell_type": "code",
      "metadata": {
        "id": "KnZzI4XkvXmO",
        "colab_type": "code",
        "colab": {
          "base_uri": "https://localhost:8080/",
          "height": 279
        },
        "outputId": "a64b18d2-0bd2-4cea-a02a-dc8a83ce96a9"
      },
      "source": [
        "plot_learning_curve(x, rewards, epsilons)"
      ],
      "execution_count": 21,
      "outputs": [
        {
          "output_type": "display_data",
          "data": {
            "image/png": "[encoded data removed]",
            "text/plain": [
              "<Figure size 432x288 with 2 Axes>"
            ]
          },
          "metadata": {
            "tags": []
          }
        }
      ]
    },
    {
      "cell_type": "code",
      "metadata": {
        "id": "uXYcbSx5vXmP",
        "colab_type": "code",
        "colab": {}
      },
      "source": [
        ""
      ],
      "execution_count": 0,
      "outputs": []
    }
  ]
}