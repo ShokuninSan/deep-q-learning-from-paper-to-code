{
 "cells": [
  {
   "cell_type": "markdown",
   "metadata": {
    "colab_type": "text",
    "id": "view-in-github"
   },
   "source": [
    "<a href=\"https://colab.research.google.com/github/ShokuninSan/deep-q-learning-from-paper-to-code/blob/master/09_frozen_lake_q_learning.ipynb\" target=\"_parent\"><img src=\"https://colab.research.google.com/assets/colab-badge.svg\" alt=\"Open In Colab\"/></a>"
   ]
  },
  {
   "cell_type": "code",
   "execution_count": null,
   "metadata": {
    "colab": {},
    "colab_type": "code",
    "id": "E5y7JOnU99m0"
   },
   "outputs": [],
   "source": [
    "import gym\n",
    "import numpy as np\n",
    "import matplotlib.pyplot as plt\n",
    "import torch.nn as nn\n",
    "from torch import optim\n",
    "import torch.nn.functional as F\n",
    "import torch as T"
   ]
  },
  {
   "cell_type": "code",
   "execution_count": null,
   "metadata": {
    "colab": {},
    "colab_type": "code",
    "id": "_tBnXXoJJPkv"
   },
   "outputs": [],
   "source": [
    "%matplotlib inline"
   ]
  },
  {
   "cell_type": "markdown",
   "metadata": {
    "colab_type": "text",
    "id": "kb30cF8vJYNB"
   },
   "source": [
    "# FrozenLake using Naive Deep Q-learning algorithm"
   ]
  },
  {
   "cell_type": "markdown",
   "metadata": {},
   "source": [
    "## The `DQN`"
   ]
  },
  {
   "cell_type": "code",
   "execution_count": null,
   "metadata": {
    "pixiedust": {
     "displayParams": {}
    }
   },
   "outputs": [],
   "source": [
    "class DQN(nn.Module):\n",
    "    \n",
    "    def __init__(self, n_input, n_hidden, n_classes,\n",
    "                 loss=nn.MSELoss(),\n",
    "                 optimizer=optim.Adam,\n",
    "                 activation=lambda x: x,\n",
    "                 lr=0.001):\n",
    "        super(DQN, self).__init__()\n",
    "        \n",
    "        self.fc1 = nn.Linear(n_input, n_hidden)\n",
    "        self.fc2 = nn.Linear(n_hidden, n_classes)\n",
    "        \n",
    "        self.activation = activation\n",
    "        self.loss = loss\n",
    "        self.optimizer = optimizer(self.parameters(), lr=lr)       \n",
    "        self.device = T.device('cuda' if T.cuda.is_available() else 'cpu')\n",
    "        self.to(self.device)\n",
    "        \n",
    "    def forward(self, state):\n",
    "        fc1 = F.relu(self.fc1(state))\n",
    "        fc2 = self.fc2(fc1)\n",
    "        return fc2"
   ]
  },
  {
   "cell_type": "markdown",
   "metadata": {},
   "source": [
    "### Test the DQN and approximate a binary AND operator"
   ]
  },
  {
   "cell_type": "code",
   "execution_count": null,
   "metadata": {},
   "outputs": [],
   "source": [
    "net = DQN(2, 4, 1, loss=nn.BCELoss(), optimizer=optim.Adam, lr=0.1, activation=T.sigmoid)"
   ]
  },
  {
   "cell_type": "code",
   "execution_count": null,
   "metadata": {},
   "outputs": [],
   "source": [
    "X = np.array([\n",
    "    [1, 1],\n",
    "    [0, 1],\n",
    "    [0, 0],\n",
    "    [1, 0]\n",
    "]*10)\n",
    "\n",
    "Y = [[1], [0], [0], [0]]*10"
   ]
  },
  {
   "cell_type": "code",
   "execution_count": null,
   "metadata": {},
   "outputs": [],
   "source": [
    "for x, y in zip(X, Y):\n",
    "    net.optimizer.zero_grad()\n",
    "\n",
    "    x_ = T.tensor(x, dtype=T.float).to(net.device)\n",
    "    y_ = T.tensor(y, dtype=T.float).to(net.device)\n",
    "\n",
    "    y_pred = net.activation(net.forward(x_))\n",
    "\n",
    "    loss = net.loss(y_pred, y_)\n",
    "    loss.backward()\n",
    "\n",
    "    net.optimizer.step()"
   ]
  },
  {
   "cell_type": "code",
   "execution_count": null,
   "metadata": {},
   "outputs": [],
   "source": [
    "T.sigmoid(net.forward(T.tensor([1,1], dtype=T.float))).item()"
   ]
  },
  {
   "cell_type": "code",
   "execution_count": null,
   "metadata": {},
   "outputs": [],
   "source": [
    "T.sigmoid(net.forward(T.tensor([0,0], dtype=T.float))).item()"
   ]
  },
  {
   "cell_type": "code",
   "execution_count": null,
   "metadata": {},
   "outputs": [],
   "source": [
    "T.sigmoid(net.forward(T.tensor([0,1], dtype=T.float))).item()"
   ]
  },
  {
   "cell_type": "code",
   "execution_count": null,
   "metadata": {},
   "outputs": [],
   "source": [
    "T.sigmoid(net.forward(T.tensor([1,0], dtype=T.float))).item()"
   ]
  },
  {
   "cell_type": "markdown",
   "metadata": {},
   "source": [
    "## The `Agent`"
   ]
  },
  {
   "cell_type": "markdown",
   "metadata": {},
   "source": [
    "Reuse the `Agent` implementation of the Q-learning example and substitute the dict by a `DQN`."
   ]
  },
  {
   "cell_type": "code",
   "execution_count": null,
   "metadata": {
    "colab": {},
    "colab_type": "code",
    "id": "uBiA30LnJPlA"
   },
   "outputs": [],
   "source": [
    "class Agent:\n",
    "\n",
    "    def __init__(self, n_observations, n_actions, gamma=0.99):\n",
    "        self.n_actions = n_actions\n",
    "        self.n_observations = n_observations\n",
    "        self.gamma = gamma\n",
    "        self.Q = DQN(n_observations, 128, n_actions)\n",
    "\n",
    "    def select_action(self, state, epsilon):\n",
    "        action = None\n",
    "        if np.random.rand() < epsilon:\n",
    "            # do random action selection\n",
    "            action = np.random.randint(self.n_actions)\n",
    "        else:\n",
    "            # do greedy action selection\n",
    "            state = T.tensor(state, dtype=T.float).to(self.Q.device)\n",
    "            action_values = self.Q.forward(state)\n",
    "            action = T.argmax(action_values).item()\n",
    "\n",
    "        return action\n",
    "    \n",
    "    def learn(self, state, action, reward, new_state):\n",
    "        state = T.tensor(state, dtype=T.float)\n",
    "        new_state = T.tensor(state, dtype=T.float)\n",
    "        Q = self.Q.forward(state)\n",
    "        Q_ = self.Q.forward(new_state)\n",
    "        expected_values = Q + reward + self.gamma * Q_ - Q\n",
    "        \n",
    "        self.Q.optimizer.zero_grad()\n",
    "        \n",
    "        input_values = T.tensor(state, dtype=T.float).to(self.Q.device)\n",
    "        target_values = T.tensor(expected_values, dtype=T.float).to(self.Q.device)\n",
    "        \n",
    "        predicted_values = self.Q.activation(self.Q.forward(input_values))\n",
    "        \n",
    "        loss = self.Q.loss(predicted_values, target_values)\n",
    "        loss.backward()\n",
    "        \n",
    "        self.Q.optimizer.step()"
   ]
  },
  {
   "cell_type": "code",
   "execution_count": null,
   "metadata": {
    "colab": {},
    "colab_type": "code",
    "id": "fXvxZLYEJPk5"
   },
   "outputs": [],
   "source": [
    "N_EPISODES = 10_000\n",
    "ALPHA = 0.001\n",
    "GAMMA = 0.99\n",
    "EPSILON_START = 1.0\n",
    "EPSILON_END = 0.01\n",
    "EPSILON_END_TARGET = 2500"
   ]
  },
  {
   "cell_type": "code",
   "execution_count": null,
   "metadata": {
    "colab": {},
    "colab_type": "code",
    "id": "EdMe2WpdJPlF"
   },
   "outputs": [],
   "source": [
    "rewards = []\n",
    "avg_100_rewards = []\n",
    "env = gym.make('CartPole-v0') #gym.make('FrozenLake-v0')"
   ]
  },
  {
   "cell_type": "code",
   "execution_count": null,
   "metadata": {},
   "outputs": [],
   "source": [
    "env.observation_space.shape, env.action_space.n"
   ]
  },
  {
   "cell_type": "code",
   "execution_count": null,
   "metadata": {
    "colab": {},
    "colab_type": "code",
    "id": "EdMe2WpdJPlF"
   },
   "outputs": [],
   "source": [
    "agent = Agent(n_observations=env.observation_space.shape[0], n_actions=env.action_space.n)\n",
    "epsilon = EPSILON_START"
   ]
  },
  {
   "cell_type": "code",
   "execution_count": null,
   "metadata": {
    "colab": {
     "base_uri": "https://localhost:8080/",
     "height": 187
    },
    "colab_type": "code",
    "id": "YRl79fWJJPlH",
    "outputId": "2fc421d2-7c5a-46aa-99e8-1170755a1b40",
    "pixiedust": {
     "displayParams": {}
    }
   },
   "outputs": [],
   "source": [
    "for episode in range(N_EPISODES):\n",
    "\n",
    "    state = env.reset()\n",
    "    episode_reward = 0\n",
    "\n",
    "    while True:\n",
    "        \n",
    "        action = agent.select_action(state, epsilon)\n",
    "\n",
    "        new_state, reward, is_done, _ = env.step(action)\n",
    "        \n",
    "        agent.learn(state, action, reward, new_state)\n",
    "        \n",
    "        episode_reward += reward\n",
    "\n",
    "        if is_done:\n",
    "            rewards.append(episode_reward) \n",
    "            break\n",
    "\n",
    "    epsilon = np.max([epsilon - (EPSILON_START/EPSILON_END_TARGET), EPSILON_END]) \n",
    "\n",
    "    if episode % 100 == 0:\n",
    "        avg_reward = np.mean(rewards[-100:])\n",
    "        avg_100_rewards.append(avg_reward)\n",
    "\n",
    "    if episode % 1000 == 0:\n",
    "        print(f'Average reward over last episodes was {avg_100_rewards[-1]}, '\n",
    "              f'epsilon: {epsilon}')\n"
   ]
  },
  {
   "cell_type": "code",
   "execution_count": null,
   "metadata": {
    "colab": {
     "base_uri": "https://localhost:8080/",
     "height": 282
    },
    "colab_type": "code",
    "id": "6P0GIi70JPlK",
    "outputId": "8df6f9db-6a69-4521-a31c-014718fc1c96"
   },
   "outputs": [],
   "source": [
    "plt.plot(avg_100_rewards)"
   ]
  },
  {
   "cell_type": "code",
   "execution_count": null,
   "metadata": {
    "colab": {
     "base_uri": "https://localhost:8080/",
     "height": 1000
    },
    "colab_type": "code",
    "id": "0D-rrsO_JPlL",
    "outputId": "47e785ee-3565-4346-e357-5c6ef63925a1"
   },
   "outputs": [],
   "source": [
    "agent.Q"
   ]
  },
  {
   "cell_type": "code",
   "execution_count": null,
   "metadata": {
    "colab": {},
    "colab_type": "code",
    "id": "ZSy7iVGGrzeP"
   },
   "outputs": [],
   "source": []
  },
  {
   "cell_type": "code",
   "execution_count": null,
   "metadata": {},
   "outputs": [],
   "source": []
  }
 ],
 "metadata": {
  "colab": {
   "include_colab_link": true,
   "name": "Untitled1.ipynb",
   "provenance": []
  },
  "kernelspec": {
   "display_name": "Python 3",
   "language": "python",
   "name": "python3"
  },
  "language_info": {
   "codemirror_mode": {
    "name": "ipython",
    "version": 3
   },
   "file_extension": ".py",
   "mimetype": "text/x-python",
   "name": "python",
   "nbconvert_exporter": "python",
   "pygments_lexer": "ipython3",
   "version": "3.8.3"
  },
  "toc": {
   "base_numbering": 1,
   "nav_menu": {},
   "number_sections": true,
   "sideBar": true,
   "skip_h1_title": false,
   "title_cell": "Table of Contents",
   "title_sidebar": "Contents",
   "toc_cell": false,
   "toc_position": {},
   "toc_section_display": true,
   "toc_window_display": false
  }
 },
 "nbformat": 4,
 "nbformat_minor": 4
}
