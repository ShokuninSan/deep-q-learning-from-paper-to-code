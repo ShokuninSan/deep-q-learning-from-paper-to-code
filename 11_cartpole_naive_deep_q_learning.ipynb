{
 "cells": [
  {
   "cell_type": "markdown",
   "metadata": {
    "colab_type": "text",
    "id": "view-in-github"
   },
   "source": [
    "<a href=\"https://colab.research.google.com/github/ShokuninSan/deep-q-learning-from-paper-to-code/blob/master/09_frozen_lake_q_learning.ipynb\" target=\"_parent\"><img src=\"https://colab.research.google.com/assets/colab-badge.svg\" alt=\"Open In Colab\"/></a>"
   ]
  },
  {
   "cell_type": "code",
   "execution_count": null,
   "metadata": {
    "colab": {},
    "colab_type": "code",
    "id": "E5y7JOnU99m0"
   },
   "outputs": [],
   "source": [
    "import gym\n",
    "import numpy as np\n",
    "import matplotlib.pyplot as plt\n",
    "import torch.nn as nn\n",
    "from torch import optim\n",
    "import torch.nn.functional as F\n",
    "import torch as T"
   ]
  },
  {
   "cell_type": "code",
   "execution_count": null,
   "metadata": {
    "colab": {},
    "colab_type": "code",
    "id": "_tBnXXoJJPkv"
   },
   "outputs": [],
   "source": [
    "%matplotlib inline"
   ]
  },
  {
   "cell_type": "markdown",
   "metadata": {
    "colab_type": "text",
    "id": "kb30cF8vJYNB"
   },
   "source": [
    "# Solving `CartPole` environment using a naive Deep Q-learning approach"
   ]
  },
  {
   "cell_type": "markdown",
   "metadata": {},
   "source": [
    "## The `DQN`"
   ]
  },
  {
   "cell_type": "code",
   "execution_count": null,
   "metadata": {
    "pixiedust": {
     "displayParams": {}
    }
   },
   "outputs": [],
   "source": [
    "class DQN(nn.Module):\n",
    "    \n",
    "    def __init__(self, n_input, n_hidden, n_classes,\n",
    "                 loss=nn.MSELoss(),\n",
    "                 optimizer=optim.Adam,\n",
    "                 activation=lambda x: x,\n",
    "                 lr=0.001):\n",
    "        super(DQN, self).__init__()\n",
    "        \n",
    "        self.fc1 = nn.Linear(n_input, n_hidden)\n",
    "        self.fc2 = nn.Linear(n_hidden, n_classes)\n",
    "        \n",
    "        self.activation = activation\n",
    "        self.loss = loss\n",
    "        self.optimizer = optimizer(self.parameters(), lr=lr)       \n",
    "        self.device = T.device('cuda' if T.cuda.is_available() else 'cpu')\n",
    "        self.to(self.device)\n",
    "        \n",
    "    def forward(self, state):\n",
    "        fc1 = F.relu(self.fc1(state))\n",
    "        fc2 = self.fc2(fc1)\n",
    "        return fc2"
   ]
  },
  {
   "cell_type": "markdown",
   "metadata": {},
   "source": [
    "### Test the DQN and approximate a binary AND operator"
   ]
  },
  {
   "cell_type": "code",
   "execution_count": null,
   "metadata": {},
   "outputs": [],
   "source": [
    "net = DQN(2, 4, 1, loss=nn.BCELoss(), optimizer=optim.Adam, lr=0.1, activation=T.sigmoid)"
   ]
  },
  {
   "cell_type": "code",
   "execution_count": null,
   "metadata": {},
   "outputs": [],
   "source": [
    "X = np.array([\n",
    "    [1, 1],\n",
    "    [0, 1],\n",
    "    [0, 0],\n",
    "    [1, 0]\n",
    "]*100)\n",
    "\n",
    "Y = [[1], [0], [0], [0]]*100"
   ]
  },
  {
   "cell_type": "code",
   "execution_count": null,
   "metadata": {},
   "outputs": [],
   "source": [
    "for x, y in zip(X, Y):\n",
    "    net.optimizer.zero_grad()\n",
    "\n",
    "    x_ = T.tensor(x, dtype=T.float).to(net.device)\n",
    "    y_ = T.tensor(y, dtype=T.float).to(net.device)\n",
    "\n",
    "    y_pred = net.activation(net.forward(x_))\n",
    "\n",
    "    loss = net.loss(y_pred, y_)\n",
    "    loss.backward()\n",
    "\n",
    "    net.optimizer.step()"
   ]
  },
  {
   "cell_type": "code",
   "execution_count": null,
   "metadata": {},
   "outputs": [],
   "source": [
    "T.sigmoid(net.forward(T.tensor([1,1], dtype=T.float))).item()"
   ]
  },
  {
   "cell_type": "code",
   "execution_count": null,
   "metadata": {},
   "outputs": [],
   "source": [
    "T.sigmoid(net.forward(T.tensor([0,0], dtype=T.float))).item()"
   ]
  },
  {
   "cell_type": "code",
   "execution_count": null,
   "metadata": {},
   "outputs": [],
   "source": [
    "T.sigmoid(net.forward(T.tensor([0,1], dtype=T.float))).item()"
   ]
  },
  {
   "cell_type": "code",
   "execution_count": null,
   "metadata": {},
   "outputs": [],
   "source": [
    "T.sigmoid(net.forward(T.tensor([1,0], dtype=T.float))).item()"
   ]
  },
  {
   "cell_type": "markdown",
   "metadata": {},
   "source": [
    "## The `Agent`"
   ]
  },
  {
   "cell_type": "markdown",
   "metadata": {},
   "source": [
    "Reuse the `Agent` implementation of the Q-learning example and substitute the dict by a `DQN`."
   ]
  },
  {
   "cell_type": "code",
   "execution_count": null,
   "metadata": {
    "colab": {},
    "colab_type": "code",
    "id": "uBiA30LnJPlA"
   },
   "outputs": [],
   "source": [
    "class Agent:\n",
    "\n",
    "    def __init__(self, n_observations, n_actions, gamma=0.99, lr=0.001, epsilon=1.0, epsilon_dec=1e-5, epsilon_min=0.01):\n",
    "        self.n_actions = n_actions\n",
    "        self.n_observations = n_observations\n",
    "        self.gamma = gamma\n",
    "        self.lr = lr\n",
    "        self.epsilon = epsilon\n",
    "        self.epsilon_dec = epsilon_dec\n",
    "        self.epsilon_min = epsilon_min\n",
    "        self.Q = DQN(self.n_observations, 128, self.n_actions, lr=self.lr)\n",
    "\n",
    "    def select_action(self, state):\n",
    "        \"\"\"\n",
    "        Selects next action based on epsilon-greedy action selection.\n",
    "        \"\"\"\n",
    "        action = None\n",
    "        if np.random.rand() < self.epsilon:\n",
    "            # do random action selection\n",
    "            action = np.random.randint(self.n_actions)\n",
    "        else:\n",
    "            # do greedy action selection\n",
    "            state = T.tensor(state, dtype=T.float).to(self.Q.device)\n",
    "            action_values = self.Q.forward(state)\n",
    "            action = T.argmax(action_values).item()\n",
    "\n",
    "        return action\n",
    "    \n",
    "    def learn(self, state, action, reward, new_state):\n",
    "        \"\"\"\n",
    "        Fits the DQN using the Bellman update equation and SGD.\n",
    "        \"\"\"\n",
    "        self.Q.optimizer.zero_grad()        \n",
    "\n",
    "        state = T.tensor(state, dtype=T.float).to(self.Q.device)\n",
    "        action = T.tensor(action).to(self.Q.device)\n",
    "        reward = T.tensor(reward).to(self.Q.device)\n",
    "        new_state = T.tensor(new_state, dtype=T.float).to(self.Q.device)\n",
    "        \n",
    "        action_value = self.Q.forward(state)[action]\n",
    "        next_action_value = self.Q.forward(new_state).max()\n",
    "        expected_value = reward + self.gamma * next_action_value\n",
    "        \n",
    "        loss = self.Q.loss(expected_value, action_value).to(self.Q.device)\n",
    "        loss.backward()\n",
    "        self.Q.optimizer.step()\n",
    "        self._decrement_epsilon()\n",
    "        \n",
    "    def _decrement_epsilon(self):\n",
    "        \"\"\"\n",
    "        Decrements the epsilon for action selection.\n",
    "        \"\"\"\n",
    "        self.epsilon = np.max([self.epsilon - self.epsilon_dec, self.epsilon_min])"
   ]
  },
  {
   "cell_type": "code",
   "execution_count": null,
   "metadata": {
    "colab": {},
    "colab_type": "code",
    "id": "fXvxZLYEJPk5"
   },
   "outputs": [],
   "source": [
    "N_EPISODES = 10_000"
   ]
  },
  {
   "cell_type": "code",
   "execution_count": null,
   "metadata": {
    "colab": {},
    "colab_type": "code",
    "id": "EdMe2WpdJPlF"
   },
   "outputs": [],
   "source": [
    "rewards = []\n",
    "epsilons = []\n",
    "avg_100_rewards = []\n",
    "env = gym.make('CartPole-v1') #gym.make('FrozenLake-v0')"
   ]
  },
  {
   "cell_type": "code",
   "execution_count": null,
   "metadata": {
    "colab": {},
    "colab_type": "code",
    "id": "EdMe2WpdJPlF"
   },
   "outputs": [],
   "source": [
    "agent = Agent(n_observations=env.observation_space.shape[0], n_actions=env.action_space.n)"
   ]
  },
  {
   "cell_type": "code",
   "execution_count": null,
   "metadata": {
    "colab": {
     "base_uri": "https://localhost:8080/",
     "height": 187
    },
    "colab_type": "code",
    "id": "YRl79fWJJPlH",
    "outputId": "2fc421d2-7c5a-46aa-99e8-1170755a1b40",
    "pixiedust": {
     "displayParams": {}
    },
    "scrolled": true
   },
   "outputs": [],
   "source": [
    "for episode in range(N_EPISODES):\n",
    "    state = env.reset()\n",
    "    is_done = False\n",
    "    episode_reward = 0\n",
    "\n",
    "    while not is_done:\n",
    "        action = agent.select_action(state)\n",
    "        new_state, reward, is_done, _ = env.step(action)\n",
    "        agent.learn(state, action, reward, new_state)\n",
    "        episode_reward += reward\n",
    "        state = new_state\n",
    "        \n",
    "    rewards.append(episode_reward) \n",
    "    epsilons.append(agent.epsilon)\n",
    "\n",
    "    if episode % 100 == 0:\n",
    "        avg_reward = np.mean(rewards[-100:])\n",
    "        avg_100_rewards.append(avg_reward)\n",
    "        print(f'Average reward over last episodes was {avg_100_rewards[-1]}, epsilon: {agent.epsilon}')"
   ]
  },
  {
   "cell_type": "code",
   "execution_count": null,
   "metadata": {
    "colab": {
     "base_uri": "https://localhost:8080/",
     "height": 282
    },
    "colab_type": "code",
    "id": "6P0GIi70JPlK",
    "outputId": "8df6f9db-6a69-4521-a31c-014718fc1c96"
   },
   "outputs": [],
   "source": [
    "plt.plot(avg_100_rewards)"
   ]
  },
  {
   "cell_type": "code",
   "execution_count": null,
   "metadata": {
    "colab": {
     "base_uri": "https://localhost:8080/",
     "height": 1000
    },
    "colab_type": "code",
    "id": "0D-rrsO_JPlL",
    "outputId": "47e785ee-3565-4346-e357-5c6ef63925a1"
   },
   "outputs": [],
   "source": [
    "def plot_learning_curve(x, rewards, epsilons):\n",
    "    fig = plt.figure()\n",
    "    ax = fig.add_subplot(111, label='1')\n",
    "    ax2 = fig.add_subplot(111, label='2', frame_on=False)\n",
    "    \n",
    "    ax.plot(x, epsilons, color='C0')\n",
    "    ax.set_xlabel('Training Steps')\n",
    "    ax.set_ylabel('Epsilon', color='C0')\n",
    "    ax.tick_params(axis='y', colors='C0')\n",
    "    \n",
    "    N = len(rewards)\n",
    "    running_avg = np.empty(N)\n",
    "    for t in range(N):\n",
    "        running_avg[t] = np.mean(rewards[max(0, t-100):(t+1)])\n",
    "        \n",
    "    ax2.plot(x, running_avg, color='C1')\n",
    "    ax2.axes.get_xaxis().set_visible(False)\n",
    "    ax2.yaxis.tick_right()\n",
    "    ax2.set_ylabel('Score', color='C1')\n",
    "    ax2.yaxis.set_label_position('right')\n",
    "    ax2.tick_params(axis='y', colors='C1')"
   ]
  },
  {
   "cell_type": "code",
   "execution_count": null,
   "metadata": {
    "colab": {},
    "colab_type": "code",
    "id": "ZSy7iVGGrzeP"
   },
   "outputs": [],
   "source": [
    "x = list(range(1, N_EPISODES + 1))"
   ]
  },
  {
   "cell_type": "code",
   "execution_count": null,
   "metadata": {},
   "outputs": [],
   "source": [
    "plot_learning_curve(x, rewards, epsilons)"
   ]
  },
  {
   "cell_type": "code",
   "execution_count": null,
   "metadata": {},
   "outputs": [],
   "source": []
  }
 ],
 "metadata": {
  "colab": {
   "include_colab_link": true,
   "name": "Untitled1.ipynb",
   "provenance": []
  },
  "kernelspec": {
   "display_name": "Python 3",
   "language": "python",
   "name": "python3"
  },
  "language_info": {
   "codemirror_mode": {
    "name": "ipython",
    "version": 3
   },
   "file_extension": ".py",
   "mimetype": "text/x-python",
   "name": "python",
   "nbconvert_exporter": "python",
   "pygments_lexer": "ipython3",
   "version": "3.8.3"
  },
  "toc": {
   "base_numbering": 1,
   "nav_menu": {},
   "number_sections": true,
   "sideBar": true,
   "skip_h1_title": false,
   "title_cell": "Table of Contents",
   "title_sidebar": "Contents",
   "toc_cell": false,
   "toc_position": {},
   "toc_section_display": true,
   "toc_window_display": false
  }
 },
 "nbformat": 4,
 "nbformat_minor": 4
}
