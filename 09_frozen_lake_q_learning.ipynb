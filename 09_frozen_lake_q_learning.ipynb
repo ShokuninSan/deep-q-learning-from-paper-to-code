{
  "nbformat": 4,
  "nbformat_minor": 0,
  "metadata": {
    "colab": {
      "name": "Untitled1.ipynb",
      "provenance": [],
      "include_colab_link": true
    },
    "kernelspec": {
      "display_name": "Python 3",
      "language": "python",
      "name": "python3"
    },
    "language_info": {
      "codemirror_mode": {
        "name": "ipython",
        "version": 3
      },
      "file_extension": ".py",
      "mimetype": "text/x-python",
      "name": "python",
      "nbconvert_exporter": "python",
      "pygments_lexer": "ipython3",
      "version": "3.8.2"
    },
    "toc": {
      "base_numbering": 1,
      "nav_menu": {},
      "number_sections": true,
      "sideBar": true,
      "skip_h1_title": false,
      "title_cell": "Table of Contents",
      "title_sidebar": "Contents",
      "toc_cell": false,
      "toc_position": {},
      "toc_section_display": true,
      "toc_window_display": false
    }
  },
  "cells": [
    {
      "cell_type": "markdown",
      "metadata": {
        "id": "view-in-github",
        "colab_type": "text"
      },
      "source": [
        "<a href=\"https://colab.research.google.com/github/ShokuninSan/deep-q-learning-from-paper-to-code/blob/master/09_frozen_lake_q_learning.ipynb\" target=\"_parent\"><img src=\"https://colab.research.google.com/assets/colab-badge.svg\" alt=\"Open In Colab\"/></a>"
      ]
    },
    {
      "cell_type": "code",
      "metadata": {
        "colab_type": "code",
        "id": "E5y7JOnU99m0",
        "colab": {}
      },
      "source": [
        "import gym\n",
        "import numpy as np\n",
        "import matplotlib.pyplot as plt"
      ],
      "execution_count": 0,
      "outputs": []
    },
    {
      "cell_type": "markdown",
      "metadata": {
        "id": "kb30cF8vJYNB",
        "colab_type": "text"
      },
      "source": [
        "# FrozenLake using Q-learning algorithm"
      ]
    },
    {
      "cell_type": "code",
      "metadata": {
        "id": "_tBnXXoJJPkv",
        "colab_type": "code",
        "colab": {}
      },
      "source": [
        "%matplotlib inline"
      ],
      "execution_count": 0,
      "outputs": []
    },
    {
      "cell_type": "code",
      "metadata": {
        "colab_type": "code",
        "id": "fXvxZLYEJPk5",
        "colab": {}
      },
      "source": [
        "N_EPISODES = 500_000\n",
        "ALPHA = 0.001\n",
        "GAMMA = 0.9\n",
        "EPSILON_START = 1.0\n",
        "EPSILON_END = 0.01 "
      ],
      "execution_count": 0,
      "outputs": []
    },
    {
      "cell_type": "code",
      "metadata": {
        "colab_type": "code",
        "id": "uBiA30LnJPlA",
        "colab": {}
      },
      "source": [
        "class Agent:\n",
        "\n",
        "    def __init__(self, env):\n",
        "        self.env = env \n",
        "        self.state = None\n",
        "        self.Q = {\n",
        "            (s, a): 0 \n",
        "            for s in range(env.observation_space.n)\n",
        "            for a in range(env.action_space.n)\n",
        "        }\n",
        "        self.random_steps = 0\n",
        "\n",
        "    def reset(self):\n",
        "        self.state = self.env.reset()\n",
        "\n",
        "    def step(self, epsilon):\n",
        "        action = None\n",
        "        if np.random.rand() < epsilon:\n",
        "            # do random action selection\n",
        "            action = np.random.randint(self.env.action_space.n)\n",
        "            self.random_steps += 1\n",
        "        else:\n",
        "            # do greedy action selection\n",
        "            action, _ = self.select_action_value(self.state) \n",
        "\n",
        "        new_state, reward, is_done, _ = self.env.step(action)\n",
        "\n",
        "        self.update_action_value(self.state, action, reward, new_state)\n",
        "        self.state = new_state\n",
        "\n",
        "        return reward, is_done  \n",
        "\n",
        "    def update_action_value(self, state, action, reward, new_state):\n",
        "         _, value = self.select_action_value(new_state)\n",
        "         self.Q[(state, action)] += ALPHA * (reward + GAMMA * value - self.Q[(state, action)])\n",
        "\n",
        "    def select_action_value(self, state):\n",
        "        max_action = None\n",
        "        max_action_value = -1 \n",
        "        for (s, a), value in self.Q.items():\n",
        "            if s == state and value > max_action_value:\n",
        "                max_action = a\n",
        "                max_action_value = value\n",
        "        return max_action, max_action_value"
      ],
      "execution_count": 0,
      "outputs": []
    },
    {
      "cell_type": "code",
      "metadata": {
        "colab_type": "code",
        "id": "EdMe2WpdJPlF",
        "colab": {}
      },
      "source": [
        "rewards = []\n",
        "avg_100_rewards = []\n",
        "env = gym.make('FrozenLake-v0')\n",
        "agent = Agent(env)\n",
        "epsilon = EPSILON_START"
      ],
      "execution_count": 0,
      "outputs": []
    },
    {
      "cell_type": "code",
      "metadata": {
        "colab_type": "code",
        "id": "YRl79fWJJPlH",
        "colab": {
          "base_uri": "https://localhost:8080/",
          "height": 187
        },
        "outputId": "2fc421d2-7c5a-46aa-99e8-1170755a1b40"
      },
      "source": [
        "for episode in range(N_EPISODES):\n",
        "\n",
        "    agent.reset()\n",
        "\n",
        "    while True:\n",
        "\n",
        "        reward, is_done = agent.step(epsilon)\n",
        "\n",
        "        if is_done:\n",
        "            rewards.append(reward) \n",
        "            break\n",
        "\n",
        "    epsilon = np.max([epsilon - (EPSILON_START/N_EPISODES), EPSILON_END]) \n",
        "\n",
        "    if episode % 100 == 0:\n",
        "        avg_reward = np.mean(rewards[-100:])\n",
        "        avg_100_rewards.append(avg_reward)\n",
        "\n",
        "    if episode % 50000 == 0:\n",
        "        print(f'Average reward over last episodes was {avg_100_rewards[-1]}, '\n",
        "              f'epsilon: {epsilon}')\n"
      ],
      "execution_count": 28,
      "outputs": [
        {
          "output_type": "stream",
          "text": [
            "Average reward over last episodes was 0.0, epsilon: 0.999998\n",
            "Average reward over last episodes was 0.01, epsilon: 0.8999980000026756\n",
            "Average reward over last episodes was 0.03, epsilon: 0.7999980000053512\n",
            "Average reward over last episodes was 0.03, epsilon: 0.6999980000080267\n",
            "Average reward over last episodes was 0.01, epsilon: 0.5999980000107022\n",
            "Average reward over last episodes was 0.07, epsilon: 0.49999800001337774\n",
            "Average reward over last episodes was 0.11, epsilon: 0.39999800001327773\n",
            "Average reward over last episodes was 0.12, epsilon: 0.2999980000131777\n",
            "Average reward over last episodes was 0.28, epsilon: 0.19999800001307771\n",
            "Average reward over last episodes was 0.43, epsilon: 0.0999980000129777\n"
          ],
          "name": "stdout"
        }
      ]
    },
    {
      "cell_type": "code",
      "metadata": {
        "colab_type": "code",
        "id": "6P0GIi70JPlK",
        "colab": {
          "base_uri": "https://localhost:8080/",
          "height": 282
        },
        "outputId": "8df6f9db-6a69-4521-a31c-014718fc1c96"
      },
      "source": [
        "plt.plot(avg_100_rewards)"
      ],
      "execution_count": 29,
      "outputs": [
        {
          "output_type": "execute_result",
          "data": {
            "text/plain": [
              "[<matplotlib.lines.Line2D at 0x7f61477d8e80>]"
            ]
          },
          "metadata": {
            "tags": []
          },
          "execution_count": 29
        },
        {
          "output_type": "display_data",
          "data": {
            "image/png": "[encoded data removed]",
            "text/plain": [
              "<Figure size 432x288 with 1 Axes>"
            ]
          },
          "metadata": {
            "tags": [],
            "needs_background": "light"
          }
        }
      ]
    },
    {
      "cell_type": "code",
      "metadata": {
        "id": "0D-rrsO_JPlL",
        "colab_type": "code",
        "colab": {
          "base_uri": "https://localhost:8080/",
          "height": 1000
        },
        "outputId": "47e785ee-3565-4346-e357-5c6ef63925a1"
      },
      "source": [
        "agent.Q"
      ],
      "execution_count": 30,
      "outputs": [
        {
          "output_type": "execute_result",
          "data": {
            "text/plain": [
              "{(0, 0): 0.06822707001196697,\n",
              " (0, 1): 0.06694096907445829,\n",
              " (0, 2): 0.06661991168123776,\n",
              " (0, 3): 0.05960117300361119,\n",
              " (1, 0): 0.04012018961043174,\n",
              " (1, 1): 0.043627892148930175,\n",
              " (1, 2): 0.04085904374514788,\n",
              " (1, 3): 0.06112817969865117,\n",
              " (2, 0): 0.07183190912282619,\n",
              " (2, 1): 0.06952563144597196,\n",
              " (2, 2): 0.07213905273786861,\n",
              " (2, 3): 0.05791398405929392,\n",
              " (3, 0): 0.03828124800756114,\n",
              " (3, 1): 0.03703738083380083,\n",
              " (3, 2): 0.031611205830047256,\n",
              " (3, 3): 0.05529156229705742,\n",
              " (4, 0): 0.09143427843033049,\n",
              " (4, 1): 0.06848778263138687,\n",
              " (4, 2): 0.0656930103963639,\n",
              " (4, 3): 0.04732715163123616,\n",
              " (5, 0): 0,\n",
              " (5, 1): 0,\n",
              " (5, 2): 0,\n",
              " (5, 3): 0,\n",
              " (6, 0): 0.10465578977439138,\n",
              " (6, 1): 0.09243771183464704,\n",
              " (6, 2): 0.11414472117449065,\n",
              " (6, 3): 0.02337546021062058,\n",
              " (7, 0): 0,\n",
              " (7, 1): 0,\n",
              " (7, 2): 0,\n",
              " (7, 3): 0,\n",
              " (8, 0): 0.07114792463694164,\n",
              " (8, 1): 0.1173894155481094,\n",
              " (8, 2): 0.0995852172156324,\n",
              " (8, 3): 0.1447035130664591,\n",
              " (9, 0): 0.1547695285003095,\n",
              " (9, 1): 0.24834498153272486,\n",
              " (9, 2): 0.20353508791976468,\n",
              " (9, 3): 0.13232117562730597,\n",
              " (10, 0): 0.2944007498151497,\n",
              " (10, 1): 0.26292739193702214,\n",
              " (10, 2): 0.2228257388903115,\n",
              " (10, 3): 0.10894315676072756,\n",
              " (11, 0): 0,\n",
              " (11, 1): 0,\n",
              " (11, 2): 0,\n",
              " (11, 3): 0,\n",
              " (12, 0): 0,\n",
              " (12, 1): 0,\n",
              " (12, 2): 0,\n",
              " (12, 3): 0,\n",
              " (13, 0): 0.19115919238877357,\n",
              " (13, 1): 0.3082327851697605,\n",
              " (13, 2): 0.38222409603045276,\n",
              " (13, 3): 0.2734171434521126,\n",
              " (14, 0): 0.39439580784641926,\n",
              " (14, 1): 0.6324666244869811,\n",
              " (14, 2): 0.6116437220197507,\n",
              " (14, 3): 0.5385103359790219,\n",
              " (15, 0): 0,\n",
              " (15, 1): 0,\n",
              " (15, 2): 0,\n",
              " (15, 3): 0}"
            ]
          },
          "metadata": {
            "tags": []
          },
          "execution_count": 30
        }
      ]
    },
    {
      "cell_type": "code",
      "metadata": {
        "id": "ZSy7iVGGrzeP",
        "colab_type": "code",
        "colab": {}
      },
      "source": [
        ""
      ],
      "execution_count": 0,
      "outputs": []
    }
  ]
}