{
  "nbformat": 4,
  "nbformat_minor": 0,
  "metadata": {
    "colab": {
      "name": "Untitled1.ipynb",
      "provenance": [],
      "include_colab_link": true
    },
    "kernelspec": {
      "display_name": "Python 3",
      "language": "python",
      "name": "python3"
    },
    "language_info": {
      "codemirror_mode": {
        "name": "ipython",
        "version": 3
      },
      "file_extension": ".py",
      "mimetype": "text/x-python",
      "name": "python",
      "nbconvert_exporter": "python",
      "pygments_lexer": "ipython3",
      "version": "3.8.2"
    },
    "toc": {
      "base_numbering": 1,
      "nav_menu": {},
      "number_sections": true,
      "sideBar": true,
      "skip_h1_title": false,
      "title_cell": "Table of Contents",
      "title_sidebar": "Contents",
      "toc_cell": false,
      "toc_position": {},
      "toc_section_display": true,
      "toc_window_display": false
    }
  },
  "cells": [
    {
      "cell_type": "markdown",
      "metadata": {
        "id": "view-in-github",
        "colab_type": "text"
      },
      "source": [
        "<a href=\"https://colab.research.google.com/github/ShokuninSan/deep-q-learning-from-paper-to-code/blob/master/09_frozen_lake_q_learning.ipynb\" target=\"_parent\"><img src=\"https://colab.research.google.com/assets/colab-badge.svg\" alt=\"Open In Colab\"/></a>"
      ]
    },
    {
      "cell_type": "code",
      "metadata": {
        "colab_type": "code",
        "id": "E5y7JOnU99m0",
        "colab": {}
      },
      "source": [
        "import gym\n",
        "import numpy as np\n",
        "import matplotlib.pyplot as plt"
      ],
      "execution_count": 0,
      "outputs": []
    },
    {
      "cell_type": "markdown",
      "metadata": {
        "id": "kb30cF8vJYNB",
        "colab_type": "text"
      },
      "source": [
        "# FrozenLake using Q-learning algorithm"
      ]
    },
    {
      "cell_type": "code",
      "metadata": {
        "id": "_tBnXXoJJPkv",
        "colab_type": "code",
        "colab": {}
      },
      "source": [
        "%matplotlib inline"
      ],
      "execution_count": 0,
      "outputs": []
    },
    {
      "cell_type": "code",
      "metadata": {
        "colab_type": "code",
        "id": "fXvxZLYEJPk5",
        "colab": {}
      },
      "source": [
        "N_EPISODES = 500_000\n",
        "ALPHA = 0.001\n",
        "GAMMA = 0.9\n",
        "EPSILON_START = 1.0\n",
        "EPSILON_END = 0.01 "
      ],
      "execution_count": 0,
      "outputs": []
    },
    {
      "cell_type": "code",
      "metadata": {
        "colab_type": "code",
        "id": "uBiA30LnJPlA",
        "colab": {}
      },
      "source": [
        "class Agent:\n",
        "\n",
        "    def __init__(self, env):\n",
        "        self.env = env \n",
        "        self.state = None\n",
        "        self.Q = {\n",
        "            (s, a): 0 \n",
        "            for s in range(env.observation_space.n)\n",
        "            for a in range(env.action_space.n)\n",
        "        }\n",
        "\n",
        "    def step(self, epsilon):\n",
        "        action = None\n",
        "        if np.random.rand() < epsilon:\n",
        "            # do random action selection\n",
        "            action = np.random.randint(env.action_space.n)\n",
        "        else:\n",
        "            # do greedy action selection\n",
        "            action, _ = self.select_action_value(state) \n",
        "\n",
        "        new_state, reward, is_done, _ = env.step(action)\n",
        "\n",
        "        self.update_action_value(state, action, reward, new_state)\n",
        "        self.state = new_state\n",
        "\n",
        "        return reward, is_done  \n",
        "\n",
        "    def update_action_value(self, state, action, reward, new_state):\n",
        "         _, value = self.select_action_value(new_state)\n",
        "         self.Q[(state, action)] += ALPHA * (reward + GAMMA * value - self.Q[(state, action)])\n",
        "\n",
        "    def select_action_value(self, state):\n",
        "        max_action = None\n",
        "        max_action_value = -1 \n",
        "        for (s, a), value in self.Q.items():\n",
        "            if s == state and value > max_action_value:\n",
        "                max_action = a\n",
        "                max_action_value = value\n",
        "        return max_action, max_action_value"
      ],
      "execution_count": 0,
      "outputs": []
    },
    {
      "cell_type": "code",
      "metadata": {
        "colab_type": "code",
        "id": "EdMe2WpdJPlF",
        "colab": {}
      },
      "source": [
        "rewards = []\n",
        "avg_100_rewards = []\n",
        "env = gym.make('FrozenLake-v0')\n",
        "agent = Agent(env)\n",
        "epsilon = EPSILON_START"
      ],
      "execution_count": 0,
      "outputs": []
    },
    {
      "cell_type": "code",
      "metadata": {
        "colab_type": "code",
        "id": "YRl79fWJJPlH",
        "colab": {}
      },
      "source": [
        "for episode in range(N_EPISODES):\n",
        "\n",
        "    state = env.reset()\n",
        "\n",
        "    while True:\n",
        "\n",
        "        reward, is_done = agent.step(epsilon)\n",
        "\n",
        "        if is_done:\n",
        "            rewards.append(reward) \n",
        "            break\n",
        "\n",
        "    epsilon = np.max([epsilon - (EPSILON_START/N_EPISODES), EPSILON_END]) \n",
        "\n",
        "    if episode % 100 == 0:\n",
        "        avg_reward = np.mean(rewards[-100:])\n",
        "        avg_100_rewards.append(avg_reward)\n",
        "\n",
        "    if episode % 50000 == 0:\n",
        "        print(f'Average reward over last episodes was {avg_100_rewards[-1]}, epsilon: {epsilon')\n"
      ],
      "execution_count": 0,
      "outputs": []
    },
    {
      "cell_type": "code",
      "metadata": {
        "colab_type": "code",
        "id": "6P0GIi70JPlK",
        "colab": {}
      },
      "source": [
        "plt.plot(avg_100_rewards)"
      ],
      "execution_count": 0,
      "outputs": []
    },
    {
      "cell_type": "code",
      "metadata": {
        "id": "0D-rrsO_JPlL",
        "colab_type": "code",
        "colab": {}
      },
      "source": [
        ""
      ],
      "execution_count": 0,
      "outputs": []
    }
  ]
}